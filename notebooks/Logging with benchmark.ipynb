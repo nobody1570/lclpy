{
 "cells": [
  {
   "cell_type": "code",
   "execution_count": 2,
   "metadata": {
    "slideshow": {
     "slide_type": "skip"
    }
   },
   "outputs": [],
   "source": [
    "from lspy.io.tsplib import read_tsplib\n",
    "\n",
    "from lspy.termination.max_iterations_termination_criterion import MaxIterationsTerminationCriterion\n",
    "from lspy.localsearch.move.tsp_array_swap import TspArraySwap\n",
    "from lspy.localsearch.move.array_reverse_order import ArrayReverseOrder\n",
    "from lspy.evaluation.tsp_evaluation_function import TspEvaluationFunction\n",
    "from lspy.problem.array_problem import ArrayProblem\n",
    "\n",
    "from lspy.localsearch.simulatedannealing.simulated_annealing import SimulatedAnnealing\n",
    "from lspy.localsearch.simulatedannealing.geometric_cooling_function import GeometricCoolingFunction\n",
    "from lspy.localsearch.simulatedannealing.cnst_iterations_temp_function import CnstIterationsTempFunction\n",
    "\n",
    "from lspy.localsearch.steepestdescent.steepest_descent import SteepestDescent\n",
    "\n",
    "from lspy.benchmark.benchmark import benchmark\n",
    "from lspy.benchmark.statistics import stat\n",
    "\n",
    "from lspy.plot.plot import plot\n"
   ]
  },
  {
   "cell_type": "code",
   "execution_count": 3,
   "metadata": {
    "slideshow": {
     "slide_type": "skip"
    }
   },
   "outputs": [],
   "source": [
    "data = read_tsplib('data/gr48.tsp')\n",
    "distance_matrix = data[0]\n",
    "\n",
    "size = distance_matrix.shape[0]"
   ]
  },
  {
   "cell_type": "markdown",
   "metadata": {
    "slideshow": {
     "slide_type": "slide"
    }
   },
   "source": [
    "# Termination criterion"
   ]
  },
  {
   "cell_type": "code",
   "execution_count": 4,
   "metadata": {
    "slideshow": {
     "slide_type": "fragment"
    }
   },
   "outputs": [],
   "source": [
    "termination_criterion = MaxIterationsTerminationCriterion(10)"
   ]
  },
  {
   "cell_type": "markdown",
   "metadata": {
    "slideshow": {
     "slide_type": "slide"
    }
   },
   "source": [
    "# Problems"
   ]
  },
  {
   "cell_type": "code",
   "execution_count": 5,
   "metadata": {
    "slideshow": {
     "slide_type": "fragment"
    }
   },
   "outputs": [],
   "source": [
    "move_1 = TspArraySwap(size)\n",
    "\n",
    "evaluation_1 = TspEvaluationFunction(distance_matrix, move_1)\n",
    "\n",
    "problem_1 = ArrayProblem(evaluation_1, move_1, size)"
   ]
  },
  {
   "cell_type": "code",
   "execution_count": 6,
   "metadata": {
    "slideshow": {
     "slide_type": "fragment"
    }
   },
   "outputs": [],
   "source": [
    "move_2 = ArrayReverseOrder(size)\n",
    "\n",
    "evaluation_2 = TspEvaluationFunction(distance_matrix, move_2)\n",
    "\n",
    "problem_2 = ArrayProblem(evaluation_2, move_2, size)"
   ]
  },
  {
   "cell_type": "code",
   "execution_count": 7,
   "metadata": {
    "slideshow": {
     "slide_type": "fragment"
    }
   },
   "outputs": [],
   "source": [
    "problem_list = [problem_1, problem_2]"
   ]
  },
  {
   "cell_type": "markdown",
   "metadata": {
    "slideshow": {
     "slide_type": "slide"
    }
   },
   "source": [
    "# Algorithms"
   ]
  },
  {
   "cell_type": "markdown",
   "metadata": {},
   "source": [
    "Since the parameter logging is False, no data will be shown in the command line of the execution of this algorithm. It will still be properly executed, mind."
   ]
  },
  {
   "cell_type": "code",
   "execution_count": 8,
   "metadata": {
    "slideshow": {
     "slide_type": "fragment"
    }
   },
   "outputs": [],
   "source": [
    "cooling_func = GeometricCoolingFunction(0.95)\n",
    "i_for_temp = CnstIterationsTempFunction(1500)\n",
    "\n",
    "algorithm_1 = SimulatedAnnealing(None, None,cooling_func, i_for_temp, benchmarking=True, logging=False)"
   ]
  },
  {
   "cell_type": "markdown",
   "metadata": {},
   "source": [
    "Here, the algorithm has no given logging parameter, therefore it will use the default value (True) and logging of the execution of the algoritm will be shown in the command line."
   ]
  },
  {
   "cell_type": "code",
   "execution_count": 9,
   "metadata": {
    "slideshow": {
     "slide_type": "fragment"
    }
   },
   "outputs": [],
   "source": [
    "algorithm_2 = SteepestDescent(None, benchmarking=True)"
   ]
  },
  {
   "cell_type": "code",
   "execution_count": 10,
   "metadata": {
    "slideshow": {
     "slide_type": "fragment"
    }
   },
   "outputs": [],
   "source": [
    "alg_list = [algorithm_1, algorithm_2]"
   ]
  },
  {
   "cell_type": "markdown",
   "metadata": {
    "slideshow": {
     "slide_type": "slide"
    }
   },
   "source": [
    "# Benchmark"
   ]
  },
  {
   "cell_type": "code",
   "execution_count": 11,
   "metadata": {
    "slideshow": {
     "slide_type": "fragment"
    }
   },
   "outputs": [
    {
     "name": "stdout",
     "output_type": "stream",
     "text": [
      "____Benchmark started___\n",
      "|---  Starting runs for algorithm 0\n",
      "--|---  Starting runs for problem 0\n",
      "----|---  Starting run for seed 0\n",
      "----|--- Completed run for seed 0\n",
      "----|---  Starting run for seed 1\n",
      "----|--- Completed run for seed 1\n",
      "----|---  Starting run for seed 2\n",
      "----|--- Completed run for seed 2\n",
      "--|--- Completed runs for problem 0\n",
      "--|---  Starting runs for problem 1\n",
      "----|---  Starting run for seed 0\n",
      "----|--- Completed run for seed 0\n",
      "----|---  Starting run for seed 1\n",
      "----|--- Completed run for seed 1\n",
      "----|---  Starting run for seed 2\n",
      "----|--- Completed run for seed 2\n",
      "--|--- Completed runs for problem 1\n",
      "|--- Completed runs for algorithm 0\n",
      "|---  Starting runs for algorithm 1\n",
      "--|---  Starting runs for problem 2\n",
      "----|---  Starting run for seed 0\n",
      "Improvement : 18381\n",
      "Improvement : 17226\n",
      "Improvement : 16206\n",
      "Improvement : 15138\n",
      "Improvement : 14149\n",
      "Improvement : 13407\n",
      "Improvement : 12754\n",
      "Improvement : 12052\n",
      "Improvement : 11342\n",
      "Improvement : 10515\n",
      "----|--- Completed run for seed 0\n",
      "----|---  Starting run for seed 1\n",
      "Improvement : 18381\n",
      "Improvement : 17226\n",
      "Improvement : 16206\n",
      "Improvement : 15138\n",
      "Improvement : 14149\n",
      "Improvement : 13407\n",
      "Improvement : 12754\n",
      "Improvement : 12052\n",
      "Improvement : 11342\n",
      "Improvement : 10515\n",
      "----|--- Completed run for seed 1\n",
      "----|---  Starting run for seed 2\n",
      "Improvement : 18381\n",
      "Improvement : 17226\n",
      "Improvement : 16206\n",
      "Improvement : 15138\n",
      "Improvement : 14149\n",
      "Improvement : 13407\n",
      "Improvement : 12754\n",
      "Improvement : 12052\n",
      "Improvement : 11342\n",
      "Improvement : 10515\n",
      "----|--- Completed run for seed 2\n",
      "--|--- Completed runs for problem 2\n",
      "--|---  Starting runs for problem 3\n",
      "----|---  Starting run for seed 0\n",
      "Improvement : 18611\n",
      "Improvement : 17580\n",
      "Improvement : 16612\n",
      "Improvement : 15544\n",
      "Improvement : 14668\n",
      "Improvement : 13885\n",
      "Improvement : 13285\n",
      "Improvement : 12600\n",
      "Improvement : 12021\n",
      "Improvement : 11484\n",
      "----|--- Completed run for seed 0\n",
      "----|---  Starting run for seed 1\n",
      "Improvement : 18611\n",
      "Improvement : 17580\n",
      "Improvement : 16612\n",
      "Improvement : 15544\n",
      "Improvement : 14668\n",
      "Improvement : 13885\n",
      "Improvement : 13285\n",
      "Improvement : 12600\n",
      "Improvement : 12021\n",
      "Improvement : 11484\n",
      "----|--- Completed run for seed 1\n",
      "----|---  Starting run for seed 2\n",
      "Improvement : 18611\n",
      "Improvement : 17580\n",
      "Improvement : 16612\n",
      "Improvement : 15544\n",
      "Improvement : 14668\n",
      "Improvement : 13885\n",
      "Improvement : 13285\n",
      "Improvement : 12600\n",
      "Improvement : 12021\n",
      "Improvement : 11484\n",
      "----|--- Completed run for seed 2\n",
      "--|--- Completed runs for problem 3\n",
      "|--- Completed runs for algorithm 1\n",
      "____Benchmark ended___\n"
     ]
    }
   ],
   "source": [
    "result=benchmark(problem_list, alg_list, termination_criterion, 3)"
   ]
  },
  {
   "cell_type": "code",
   "execution_count": 12,
   "metadata": {},
   "outputs": [
    {
     "name": "stdout",
     "output_type": "stream",
     "text": [
      "[[[Results(best_order=array([ 0,  1,  2,  3,  4,  5,  6, 31,  8, 19, 39, 11, 12, 13, 32, 15, 16,\n",
      "       17, 18,  9,  7, 21, 22, 23, 24, 27, 26, 25, 28, 29, 30, 20, 33, 14,\n",
      "       34, 46, 36, 37, 38, 10, 40, 41, 42, 43, 44, 45, 35, 47]), best_value=18985, data=Data(time=array([0.000e+00, 5.700e-05, 7.650e-05, 9.400e-05, 1.114e-04, 1.391e-04,\n",
      "       1.720e-04, 2.055e-04, 2.348e-04, 2.654e-04, 2.692e-04]), iteration=array([ 0,  0,  1,  2,  3,  4,  6,  7,  8,  9, 10]), temperature=array([2000., 2000., 2000., 2000., 2000., 2000., 2000., 2000., 2000.,\n",
      "       2000., 1900.]), value=array([19837, 19886, 20353, 20401, 19947, 20430, 19464, 19209, 18985,\n",
      "       19083, 19083]), best_value=array([19837, 19837, 19837, 19837, 19837, 19837, 19464, 19209, 18985,\n",
      "       18985, 18985]))), Results(best_order=array([ 0, 45, 32,  3,  4, 17,  6, 14,  8,  9, 10, 11, 12, 13,  7, 15, 16,\n",
      "        5, 18, 19, 20, 21, 22, 23, 24, 28, 26, 27, 25, 31, 30, 29,  2, 33,\n",
      "       34, 35, 36, 37, 38, 39, 40, 41, 42, 43, 44,  1, 46, 47]), best_value=19712, data=Data(time=array([0.000e+00, 5.330e-05, 6.950e-05, 8.430e-05, 9.890e-05, 1.135e-04,\n",
      "       1.323e-04, 1.721e-04, 1.753e-04]), iteration=array([ 0,  1,  2,  3,  4,  5,  6,  9, 10]), temperature=array([2000., 2000., 2000., 2000., 2000., 2000., 2000., 2000., 1900.]), value=array([19837, 20058, 20319, 20182, 20193, 20305, 19712, 19762, 19762]), best_value=array([19837, 19837, 19837, 19837, 19837, 19837, 19712, 19712, 19712]))), Results(best_order=array([ 0,  1,  2,  3,  6,  5,  4,  7,  8,  9, 10, 11, 12, 13, 14, 15, 16,\n",
      "       17, 18, 19, 20, 21, 22, 23, 24, 25, 26, 27, 28, 29, 30, 31, 32, 33,\n",
      "       34, 35, 36, 37, 38, 39, 40, 41, 42, 43, 44, 45, 46, 47]), best_value=19289, data=Data(time=array([0.000e+00, 2.800e-05, 4.660e-05, 6.290e-05, 7.780e-05, 9.170e-05,\n",
      "       1.064e-04, 1.327e-04, 1.470e-04, 1.615e-04, 1.642e-04]), iteration=array([ 0,  0,  1,  2,  3,  4,  5,  7,  8,  9, 10]), temperature=array([2000., 2000., 2000., 2000., 2000., 2000., 2000., 2000., 2000.,\n",
      "       2000., 1900.]), value=array([19837, 19289, 19616, 20490, 21198, 20905, 20986, 20619, 20745,\n",
      "       21877, 21877]), best_value=array([19837, 19289, 19289, 19289, 19289, 19289, 19289, 19289, 19289,\n",
      "       19289, 19289])))], [Results(best_order=array([ 0,  1,  2,  3, 46, 45, 44, 43, 42, 41, 40, 39, 38, 37, 36, 35, 20,\n",
      "       21, 22, 23, 26, 31, 30, 29, 28, 27, 24, 18, 17, 16, 15,  8,  7,  6,\n",
      "        9, 10, 11, 12, 32, 25, 19, 34, 33, 13, 14,  5,  4, 47]), best_value=18100, data=Data(time=array([0.000e+00, 3.140e-05, 1.000e-04, 1.357e-04, 1.881e-04, 2.044e-04,\n",
      "       2.557e-04, 3.198e-04, 4.176e-04, 4.204e-04]), iteration=array([ 0,  0,  2,  3,  4,  5,  6,  8,  9, 10]), temperature=array([2000., 2000., 2000., 2000., 2000., 2000., 2000., 2000., 2000.,\n",
      "       1900.]), value=array([19837, 19797, 19377, 19420, 19586, 19613, 18387, 18357, 18100,\n",
      "       18100]), best_value=array([19837, 19797, 19377, 19377, 19377, 19377, 18387, 18357, 18100,\n",
      "       18100]))), Results(best_order=array([ 0, 31, 28, 29, 30, 27, 26, 25, 24, 23, 22, 21, 20, 19, 18, 17,  4,\n",
      "       46, 45, 44, 43, 42, 41, 40, 39, 38, 37, 36, 35, 34, 33, 32,  1,  2,\n",
      "        3, 16,  9,  8,  7, 15, 10, 11, 12, 13, 14,  6,  5, 47]), best_value=19801, data=Data(time=array([0.       , 0.0001096, 0.0001267, 0.000152 , 0.000223 , 0.0002404,\n",
      "       0.0003927, 0.0004971, 0.0004998]), iteration=array([ 0,  1,  2,  3,  4,  5,  7,  9, 10]), temperature=array([2000., 2000., 2000., 2000., 2000., 2000., 2000., 2000., 1900.]), value=array([19837, 19843, 20260, 20123, 20263, 19859, 19801, 19889, 19889]), best_value=array([19837, 19837, 19837, 19837, 19837, 19837, 19801, 19801, 19801]))), Results(best_order=array([ 0,  1,  2,  3,  4,  5,  6,  7,  8,  9, 10, 11, 12, 13, 14, 15, 16,\n",
      "       17, 18, 19, 20, 21, 22, 23, 24, 25, 26, 27, 28, 29, 30, 31, 32, 33,\n",
      "       34, 35, 36, 37, 38, 39, 40, 41, 42, 43, 44, 45, 46, 47]), best_value=19837, data=Data(time=array([0.000e+00, 2.760e-05, 1.169e-04, 1.360e-04, 1.983e-04, 2.226e-04,\n",
      "       2.591e-04, 3.119e-04, 3.410e-04, 3.654e-04, 3.785e-04, 3.811e-04]), iteration=array([ 0,  0,  1,  2,  3,  4,  5,  6,  7,  8,  9, 10]), temperature=array([2000., 2000., 2000., 2000., 2000., 2000., 2000., 2000., 2000.,\n",
      "       2000., 2000., 1900.]), value=array([19837, 20442, 20500, 20462, 20588, 20835, 20684, 20185, 20185,\n",
      "       20677, 20573, 20573]), best_value=array([19837, 19837, 19837, 19837, 19837, 19837, 19837, 19837, 19837,\n",
      "       19837, 19837, 19837])))]], [[Results(best_order=array([ 0, 40,  2,  3, 29,  5, 21,  7,  8, 20, 10, 35, 12, 13, 31, 26, 16,\n",
      "       17, 18, 19, 34, 44, 22, 33, 24, 25, 15, 27, 28,  4, 30, 14, 32, 23,\n",
      "        9, 11, 36, 37, 38, 39,  1, 41, 42, 43,  6, 45, 46, 47]), best_value=10515, data=Data(time=array([0.       , 0.0085973, 0.0174366, 0.0261508, 0.0349023, 0.0434856,\n",
      "       0.0524067, 0.0610616, 0.0696646, 0.0781374, 0.0866056, 0.0866078]), iteration=array([ 0,  0,  1,  2,  3,  4,  5,  6,  7,  8,  9, 10]), value=array([19837, 18381, 17226, 16206, 15138, 14149, 13407, 12754, 12052,\n",
      "       11342, 10515, 10515]))), Results(best_order=array([ 0, 40,  2,  3, 29,  5, 21,  7,  8, 20, 10, 35, 12, 13, 31, 26, 16,\n",
      "       17, 18, 19, 34, 44, 22, 33, 24, 25, 15, 27, 28,  4, 30, 14, 32, 23,\n",
      "        9, 11, 36, 37, 38, 39,  1, 41, 42, 43,  6, 45, 46, 47]), best_value=10515, data=Data(time=array([0.       , 0.0086761, 0.0172854, 0.0258262, 0.0343984, 0.0429188,\n",
      "       0.0513728, 0.0599836, 0.0686026, 0.077618 , 0.0862695, 0.0862725]), iteration=array([ 0,  0,  1,  2,  3,  4,  5,  6,  7,  8,  9, 10]), value=array([19837, 18381, 17226, 16206, 15138, 14149, 13407, 12754, 12052,\n",
      "       11342, 10515, 10515]))), Results(best_order=array([ 0, 40,  2,  3, 29,  5, 21,  7,  8, 20, 10, 35, 12, 13, 31, 26, 16,\n",
      "       17, 18, 19, 34, 44, 22, 33, 24, 25, 15, 27, 28,  4, 30, 14, 32, 23,\n",
      "        9, 11, 36, 37, 38, 39,  1, 41, 42, 43,  6, 45, 46, 47]), best_value=10515, data=Data(time=array([0.       , 0.009458 , 0.020324 , 0.0295875, 0.0386011, 0.0477694,\n",
      "       0.0569882, 0.0661143, 0.0754872, 0.0848486, 0.0941013, 0.0941053]), iteration=array([ 0,  0,  1,  2,  3,  4,  5,  6,  7,  8,  9, 10]), value=array([19837, 18381, 17226, 16206, 15138, 14149, 13407, 12754, 12052,\n",
      "       11342, 10515, 10515])))], [Results(best_order=array([ 0, 28, 27, 17, 18, 19, 34, 39, 38, 37, 36, 46, 45, 44, 41, 42, 43,\n",
      "       40, 33,  3,  2,  1, 29, 24, 25, 26, 16, 15, 10, 12, 13, 14, 11,  9,\n",
      "        8,  7,  6,  5,  4, 32, 31, 30, 23, 22, 21, 20, 35, 47]), best_value=11484, data=Data(time=array([0.       , 0.0411389, 0.0808867, 0.1204849, 0.1601114, 0.1998463,\n",
      "       0.2401577, 0.2797632, 0.3193704, 0.358505 , 0.3981164, 0.3981203]), iteration=array([ 0,  0,  1,  2,  3,  4,  5,  6,  7,  8,  9, 10]), value=array([19837, 18611, 17580, 16612, 15544, 14668, 13885, 13285, 12600,\n",
      "       12021, 11484, 11484]))), Results(best_order=array([ 0, 28, 27, 17, 18, 19, 34, 39, 38, 37, 36, 46, 45, 44, 41, 42, 43,\n",
      "       40, 33,  3,  2,  1, 29, 24, 25, 26, 16, 15, 10, 12, 13, 14, 11,  9,\n",
      "        8,  7,  6,  5,  4, 32, 31, 30, 23, 22, 21, 20, 35, 47]), best_value=11484, data=Data(time=array([0.       , 0.0396115, 0.0801027, 0.1199879, 0.1610343, 0.2039232,\n",
      "       0.2464794, 0.2883926, 0.3316784, 0.3739595, 0.4160519, 0.4160555]), iteration=array([ 0,  0,  1,  2,  3,  4,  5,  6,  7,  8,  9, 10]), value=array([19837, 18611, 17580, 16612, 15544, 14668, 13885, 13285, 12600,\n",
      "       12021, 11484, 11484]))), Results(best_order=array([ 0, 28, 27, 17, 18, 19, 34, 39, 38, 37, 36, 46, 45, 44, 41, 42, 43,\n",
      "       40, 33,  3,  2,  1, 29, 24, 25, 26, 16, 15, 10, 12, 13, 14, 11,  9,\n",
      "        8,  7,  6,  5,  4, 32, 31, 30, 23, 22, 21, 20, 35, 47]), best_value=11484, data=Data(time=array([0.       , 0.0393039, 0.0790842, 0.1214691, 0.1620059, 0.2044626,\n",
      "       0.2468474, 0.289476 , 0.3337303, 0.3757963, 0.4172673, 0.4172718]), iteration=array([ 0,  0,  1,  2,  3,  4,  5,  6,  7,  8,  9, 10]), value=array([19837, 18611, 17580, 16612, 15544, 14668, 13885, 13285, 12600,\n",
      "       12021, 11484, 11484])))]]]\n"
     ]
    }
   ],
   "source": [
    "print(result)"
   ]
  }
 ],
 "metadata": {
  "kernelspec": {
   "display_name": "Python 3",
   "language": "python",
   "name": "python3"
  },
  "language_info": {
   "codemirror_mode": {
    "name": "ipython",
    "version": 3
   },
   "file_extension": ".py",
   "mimetype": "text/x-python",
   "name": "python",
   "nbconvert_exporter": "python",
   "pygments_lexer": "ipython3",
   "version": "3.7.4"
  }
 },
 "nbformat": 4,
 "nbformat_minor": 2
}
