{
 "cells": [
  {
   "cell_type": "markdown",
   "metadata": {},
   "source": [
    "# Init and run local search examples"
   ]
  },
  {
   "cell_type": "markdown",
   "metadata": {},
   "source": [
    "## imports"
   ]
  },
  {
   "cell_type": "code",
   "execution_count": 1,
   "metadata": {},
   "outputs": [],
   "source": [
    "# read data\n",
    "from lspy.io.tsplib import read_tsplib\n",
    "\n",
    "# move functions\n",
    "from lspy.localsearch.move.tsp_array_swap import TspArraySwap\n",
    "from lspy.localsearch.move.array_reverse_order import ArrayReverseOrder\n",
    "from lspy.localsearch.move.multi_neighbourhood import MultiNeighbourhood\n",
    "\n",
    "# evaluation function\n",
    "from lspy.evaluation.tsp_evaluation_function import TspEvaluationFunction\n",
    "\n",
    "# Problem class\n",
    "from lspy.problem.array_problem import ArrayProblem\n",
    "\n",
    "# termination functions\n",
    "from lspy.termination.min_temperature_termination_criterion import MinTemperatureTerminationCriterion\n",
    "from lspy.termination.max_seconds_termination_criterion import MaxSecondsTerminationCriterion\n",
    "\n",
    "# simulated annealing\n",
    "from lspy.localsearch.simulatedannealing.simulated_annealing import SimulatedAnnealing\n",
    "from lspy.localsearch.simulatedannealing.geometric_cooling_function import GeometricCoolingFunction\n",
    "from lspy.localsearch.simulatedannealing.cnst_iterations_temp_function import CnstIterationsTempFunction\n",
    "\n",
    "# steepest descent \n",
    "from lspy.localsearch.steepestdescent.steepest_descent import SteepestDescent\n",
    "\n",
    "# tabu search\n",
    "from lspy.localsearch.tabusearch.tabu_search import TabuSearch\n",
    "\n",
    "# variable neighbourhood search\n",
    "from lspy.localsearch.vns.variable_neighbourhood import VariableNeighbourhood\n"
   ]
  },
  {
   "cell_type": "markdown",
   "metadata": {},
   "source": [
    "## Reading the data"
   ]
  },
  {
   "cell_type": "code",
   "execution_count": 2,
   "metadata": {
    "scrolled": true
   },
   "outputs": [
    {
     "name": "stdout",
     "output_type": "stream",
     "text": [
      "[[  0 593 409 ... 235 369 121]\n",
      " [593   0 258 ... 371 205 570]\n",
      " [409 258   0 ... 187 289 386]\n",
      " ...\n",
      " [235 371 187 ...   0 149 212]\n",
      " [369 205 289 ... 149   0 347]\n",
      " [121 570 386 ... 212 347   0]]\n",
      "48\n"
     ]
    }
   ],
   "source": [
    "data = read_tsplib('data/gr48.tsp')\n",
    "distance_matrix = data[0]\n",
    "print(distance_matrix)\n",
    "\n",
    "size = distance_matrix.shape[0]\n",
    "print(size)"
   ]
  },
  {
   "cell_type": "markdown",
   "metadata": {},
   "source": [
    "## simulated annealing"
   ]
  },
  {
   "cell_type": "code",
   "execution_count": 3,
   "metadata": {},
   "outputs": [
    {
     "name": "stdout",
     "output_type": "stream",
     "text": [
      "Results(best_order=array([ 0, 12,  6, 27, 45, 17, 46, 36, 39, 38, 41, 34, 19, 37,  1, 44, 29,\n",
      "        3, 18,  2, 42, 24, 22, 33, 40, 43, 28, 47, 35, 13,  8, 20, 16, 26,\n",
      "       31,  4, 30, 11,  9, 23, 14, 32,  7, 21, 25,  5, 10, 15]), best_value=5393, data=None)\n"
     ]
    }
   ],
   "source": [
    "move_1 = TspArraySwap(size)\n",
    "\n",
    "evaluation_1 = TspEvaluationFunction(distance_matrix, move_1)\n",
    "\n",
    "problem_1 = ArrayProblem(evaluation_1, move_1, size)\n",
    "\n",
    "termination_criterion_1 = MinTemperatureTerminationCriterion()\n",
    "\n",
    "cooling_func = GeometricCoolingFunction(0.95)\n",
    "i_for_temp = CnstIterationsTempFunction(1500)\n",
    "\n",
    "algorithm_1 = SimulatedAnnealing(problem_1, termination_criterion_1,\n",
    "                               cooling_func, i_for_temp)\n",
    "results_1 = algorithm_1.run()\n",
    "print(results_1)"
   ]
  },
  {
   "cell_type": "markdown",
   "metadata": {},
   "source": [
    "## steepest descent"
   ]
  },
  {
   "cell_type": "code",
   "execution_count": 4,
   "metadata": {},
   "outputs": [
    {
     "name": "stdout",
     "output_type": "stream",
     "text": [
      "Results(best_order=array([ 0, 33, 18,  3,  2, 25,  7, 21,  8, 13, 35, 10,  5, 20, 16, 26, 31,\n",
      "       46,  1, 19, 37, 29, 24, 40, 43, 28, 12, 15, 47, 14, 32,  4, 30, 11,\n",
      "        9, 23, 36, 39, 38, 41, 34, 44, 42, 22, 17, 45, 27,  6]), best_value=7073, data=None)\n"
     ]
    }
   ],
   "source": [
    "move_2 = TspArraySwap(size)\n",
    "\n",
    "evaluation_2 = TspEvaluationFunction(distance_matrix, move_2)\n",
    "\n",
    "problem_2 = ArrayProblem(evaluation_2, move_2, size)\n",
    "\n",
    "\n",
    "algorithm_2 = SteepestDescent(problem_2)\n",
    "results_2 = algorithm_2.run()\n",
    "print(results_2)"
   ]
  },
  {
   "cell_type": "markdown",
   "metadata": {},
   "source": [
    "## tabu search"
   ]
  },
  {
   "cell_type": "code",
   "execution_count": 5,
   "metadata": {},
   "outputs": [
    {
     "name": "stdout",
     "output_type": "stream",
     "text": [
      "Results(best_order=array([ 0,  2, 18,  3, 29,  1, 46, 21,  8, 13,  5, 35, 10, 15, 47, 12,  6,\n",
      "       27, 45, 33, 22, 24, 17, 25,  7, 20, 16, 26, 31,  4, 11,  9, 30, 32,\n",
      "       14, 23, 36, 39, 38, 41, 34, 19, 37, 44, 42, 40, 43, 28]), best_value=6350, data=None)\n"
     ]
    }
   ],
   "source": [
    "move_3 = TspArraySwap(size)\n",
    "\n",
    "evaluation_3 = TspEvaluationFunction(distance_matrix, move_3)\n",
    "\n",
    "problem_3 = ArrayProblem(evaluation_3, move_3, size)\n",
    "\n",
    "termination_3 = MaxSecondsTerminationCriterion(10)\n",
    "\n",
    "\n",
    "algorithm_3 = TabuSearch(problem_3, termination_3, 11)\n",
    "results_3 = algorithm_3.run()\n",
    "print(results_3)"
   ]
  },
  {
   "cell_type": "markdown",
   "metadata": {},
   "source": [
    "## variable neighbourhood search"
   ]
  },
  {
   "cell_type": "code",
   "execution_count": 6,
   "metadata": {},
   "outputs": [
    {
     "name": "stdout",
     "output_type": "stream",
     "text": [
      "Results(best_order=array([ 6, 28,  0, 12, 47, 15, 10, 35,  5, 13,  8, 20, 16, 26, 31, 21,  7,\n",
      "       25, 14, 32,  4, 30, 11,  9, 23, 36, 46, 17, 45, 33, 22, 42, 44,  1,\n",
      "       39, 38, 41, 34, 19, 37, 29,  3, 18,  2, 24, 40, 43, 27]), best_value=5097, data=None)\n"
     ]
    }
   ],
   "source": [
    "move_a = TspArraySwap(size)\n",
    "move_b = ArrayReverseOrder(size)\n",
    "\n",
    "moves = [move_a, move_b]\n",
    "\n",
    "move_4 = MultiNeighbourhood(moves)\n",
    "\n",
    "evaluation_4 = TspEvaluationFunction(distance_matrix, move_4)\n",
    "\n",
    "problem_4 = ArrayProblem(evaluation_4, move_4, size)\n",
    "\n",
    "\n",
    "algorithm_4 = VariableNeighbourhood(problem_4)\n",
    "results_4 = algorithm_4.run()\n",
    "print(results_4)"
   ]
  }
 ],
 "metadata": {
  "kernelspec": {
   "display_name": "Python 3",
   "language": "python",
   "name": "python3"
  },
  "language_info": {
   "codemirror_mode": {
    "name": "ipython",
    "version": 3
   },
   "file_extension": ".py",
   "mimetype": "text/x-python",
   "name": "python",
   "nbconvert_exporter": "python",
   "pygments_lexer": "ipython3",
   "version": "3.7.2"
  }
 },
 "nbformat": 4,
 "nbformat_minor": 2
}
